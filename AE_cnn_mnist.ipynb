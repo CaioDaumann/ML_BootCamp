{
 "cells": [
  {
   "cell_type": "markdown",
   "id": "6d5ebf54",
   "metadata": {},
   "source": [
    "# Autoencoders\n",
    "\n",
    "This notebook has the objective of building a autoencoder to reconstruct MNIST images.\n",
    "\n",
    "We will use MLP and convolutional auto-encoders and compare their performance. We will also apply residual connections check if it improves the performance of the image reconstruction.\n",
    "\n"
   ]
  },
  {
   "cell_type": "code",
   "execution_count": 16,
   "id": "3267e1e6",
   "metadata": {},
   "outputs": [],
   "source": [
    "# First lets load the nescessary libraries\n",
    "import torch\n",
    "import torch.nn as nn\n",
    "import torch.optim as optim\n",
    "from torchvision import datasets, transforms\n",
    "from torch.utils.data import DataLoader\n",
    "\n",
    "# For plotting\n",
    "import matplotlib.pyplot as plt"
   ]
  },
  {
   "cell_type": "markdown",
   "id": "f0dc7bd1",
   "metadata": {},
   "source": [
    "The second stage is to load the MNIST dataset, more detaisl about it are avaliable in the cnn notebook"
   ]
  },
  {
   "cell_type": "code",
   "execution_count": 17,
   "id": "0b6b9fc8",
   "metadata": {},
   "outputs": [],
   "source": [
    "# MNIST dataset\n",
    "transform = transforms.Compose([\n",
    "    transforms.ToTensor(),\n",
    "    transforms.Normalize((0.5,), (0.5,))\n",
    "])\n",
    "\n",
    "train_dataset = datasets.MNIST(root='./data', train=True, transform=transform, download=True)\n",
    "test_dataset = datasets.MNIST(root='./data', train=False, transform=transform, download=True)\n",
    "\n",
    "train_loader = DataLoader(dataset=train_dataset, batch_size=32, shuffle=True)\n",
    "test_loader = DataLoader(dataset=test_dataset, batch_size=1000, shuffle=False)"
   ]
  },
  {
   "cell_type": "markdown",
   "id": "63b6aef5",
   "metadata": {},
   "source": [
    "### Multi layer perceptron\n",
    "\n",
    "In our first autoencoder, lets use a MLP and check its performance. We will also have a look at the latent space representation, so we will add a `forward` and a `get_encoded_representation` methods to our class. "
   ]
  },
  {
   "cell_type": "code",
   "execution_count": 18,
   "id": "3d173ee9",
   "metadata": {},
   "outputs": [],
   "source": [
    "class Autoencoder(nn.Module):\n",
    "    def __init__(self):\n",
    "        super(Autoencoder, self).__init__()\n",
    "        # Encoder\n",
    "        self.encoder = nn.Sequential(\n",
    "            nn.Linear(28*28, 256),\n",
    "            nn.ReLU(),\n",
    "            nn.Linear(256, 128),\n",
    "            nn.ReLU(),\n",
    "            nn.Linear(128, 64),\n",
    "            nn.ReLU(),\n",
    "            nn.Linear(64, 12),\n",
    "            nn.ReLU(),\n",
    "            nn.Linear(12, 3)  # Encoded representation\n",
    "        )\n",
    "        # Decoder\n",
    "        self.decoder = nn.Sequential(\n",
    "            nn.Linear(3, 12),\n",
    "            nn.ReLU(),\n",
    "            nn.Linear(12, 64),\n",
    "            nn.ReLU(),\n",
    "            nn.Linear(64, 128),\n",
    "            nn.ReLU(),\n",
    "            nn.Linear(128, 256),\n",
    "            nn.ReLU(),\n",
    "            nn.Linear(256, 28*28),\n",
    "            nn.Tanh()\n",
    "        )\n",
    "        \n",
    "    def forward(self, x):\n",
    "        encoded = self.encoder(x)\n",
    "        decoded = self.decoder(encoded)\n",
    "        return decoded, encoded  # Return both decoded and encoded values\n",
    "\n",
    "    def get_encoded_representation(self, x):\n",
    "        # This function can be used to specifically obtain the encoded representation.\n",
    "        return self.encoder(x)"
   ]
  },
  {
   "cell_type": "markdown",
   "id": "24cb3a83",
   "metadata": {},
   "source": [
    "Now lets define the loss and the optimizer"
   ]
  },
  {
   "cell_type": "code",
   "execution_count": 19,
   "id": "4b2b4ecb",
   "metadata": {},
   "outputs": [],
   "source": [
    "# Device configuration\n",
    "device = torch.device('cuda' if torch.cuda.is_available() else 'cpu')\n",
    "\n",
    "model = Autoencoder().to(device)\n",
    "\n",
    "# other hyper parametersnum_epochs\n",
    "num_epochs = 15\n",
    "learning_rate = 1e-3\n",
    "\n",
    "# Loss and optimizer\n",
    "criterion = nn.MSELoss()\n",
    "optimizer = optim.Adam(model.parameters(), lr=learning_rate)\n",
    "\n",
    "# lets now begin the training loop\n",
    "# Training the model\n",
    "for epoch in range(num_epochs):\n",
    "    for data in train_loader:\n",
    "        img, _ = data\n",
    "        img = img.view(img.size(0), -1).to(device)\n",
    "        \n",
    "        # Forward pass\n",
    "        output = model(img)\n",
    "        loss = criterion(output, img)\n",
    "        \n",
    "        # Backward pass and optimize\n",
    "        optimizer.zero_grad()\n",
    "        loss.backward()\n",
    "        optimizer.step()\n",
    "        \n",
    "    print(f'Epoch [{epoch+1}/{num_epochs}], Loss: {loss.item():.4f}')"
   ]
  },
  {
   "cell_type": "markdown",
   "id": "030ece89",
   "metadata": {},
   "source": [
    "Now that the training is finished, lets plot the results"
   ]
  },
  {
   "cell_type": "code",
   "execution_count": null,
   "id": "beaab7e2",
   "metadata": {},
   "outputs": [],
   "source": [
    "dataiter = iter(test_loader)\n",
    "images, labels = next(dataiter)\n",
    "\n",
    "# Get sample outputs\n",
    "images = images.view(images.size(0), -1).to(device)\n",
    "output = model(images)\n",
    "images = images.cpu().view(-1, 1, 28, 28)\n",
    "output = output.cpu().view(-1, 1, 28, 28)\n",
    "\n",
    "# Plot the first 10 test images and their reconstructions\n",
    "fig, axes = plt.subplots(nrows=2, ncols=10, sharex=True, sharey=True, figsize=(20,4))\n",
    "for images, row in zip([images[:10], output[:10]], axes):\n",
    "    for img, ax in zip(images, row):\n",
    "        ax.imshow(img.reshape((28, 28)).detach().numpy(), cmap='gray')\n",
    "        ax.get_xaxis().set_visible(False)\n",
    "        ax.get_yaxis().set_visible(False)\n",
    "plt.show()"
   ]
  },
  {
   "cell_type": "markdown",
   "id": "4efcfa9c",
   "metadata": {},
   "source": [
    "## Convolution neural networks\n",
    "\n",
    "Now, lets compare the results with a CNN"
   ]
  },
  {
   "cell_type": "code",
   "execution_count": 6,
   "id": "14bac89f",
   "metadata": {},
   "outputs": [],
   "source": [
    "# CNN Autoencoder Model\n",
    "class CNNAutoencoder(nn.Module):\n",
    "    def __init__(self):\n",
    "        super(CNNAutoencoder, self).__init__()\n",
    "        # Encoder\n",
    "        self.encoder = nn.Sequential(\n",
    "            nn.Conv2d(1, 16, kernel_size=3, stride=2, padding=1),  # [batch, 16, 14, 14]\n",
    "            nn.ReLU(),\n",
    "            nn.Conv2d(16, 32, kernel_size=3, stride=2, padding=1),  # [batch, 32, 7, 7]\n",
    "            nn.ReLU(),\n",
    "            nn.Conv2d(32, 64, kernel_size=7)  # [batch, 64, 1, 1]\n",
    "        )\n",
    "        \n",
    "        # Decoder\n",
    "        self.decoder = nn.Sequential(\n",
    "            nn.ConvTranspose2d(64, 32, kernel_size=7),  # [batch, 32, 7, 7]\n",
    "            nn.ReLU(),\n",
    "            nn.ConvTranspose2d(32, 16, kernel_size=3, stride=2, padding=1, output_padding=1),  # [batch, 16, 14, 14]\n",
    "            nn.ReLU(),\n",
    "            nn.ConvTranspose2d(16, 1, kernel_size=3, stride=2, padding=1, output_padding=1),  # [batch, 1, 28, 28]\n",
    "            nn.Tanh()\n",
    "        )\n",
    "\n",
    "    def forward(self, x):\n",
    "        x = self.encoder(x)\n",
    "        x = self.decoder(x)\n",
    "        return x"
   ]
  },
  {
   "cell_type": "code",
   "execution_count": 7,
   "id": "8b91477f",
   "metadata": {},
   "outputs": [],
   "source": [
    "model = CNNAutoencoder().to(device)\n",
    "\n",
    "# other hyper parametersnum_epochs\n",
    "num_epochs = 5\n",
    "learning_rate = 1e-3\n",
    "\n",
    "# Loss and optimizer\n",
    "criterion = nn.MSELoss()\n",
    "optimizer = optim.Adam(model.parameters(), lr=learning_rate)\n",
    "\n",
    "# Train the model\n",
    "for epoch in range(num_epochs):\n",
    "    for data in train_loader:\n",
    "        img, _ = data\n",
    "        img = img.to(device)\n",
    "        \n",
    "        # Forward pass\n",
    "        output = model(img)\n",
    "        loss = criterion(output, img)\n",
    "        \n",
    "        # Backward pass and optimize\n",
    "        optimizer.zero_grad()\n",
    "        loss.backward()\n",
    "        optimizer.step()\n",
    "        \n",
    "    print(f'Epoch [{epoch+1}/{num_epochs}], Loss: {loss.item():.4f}')"
   ]
  },
  {
   "cell_type": "code",
   "execution_count": null,
   "id": "a9d114c2",
   "metadata": {},
   "outputs": [],
   "source": [
    "dataiter = iter(test_loader)\n",
    "images, labels = next(dataiter)\n",
    "\n",
    "# Get sample outputs\n",
    "images = images.to(device)\n",
    "output = model(images)\n",
    "images = images.cpu().view(-1, 1, 28, 28)\n",
    "output = output.cpu().view(-1, 1, 28, 28)\n",
    "\n",
    "# Plot the first 10 test images and their reconstructions\n",
    "fig, axes = plt.subplots(nrows=2, ncols=10, sharex=True, sharey=True, figsize=(20,4))\n",
    "for images, row in zip([images[:10], output[:10]], axes):\n",
    "    for img, ax in zip(images, row):\n",
    "        ax.imshow(img.reshape((28, 28)).detach().numpy(), cmap='gray')\n",
    "        ax.get_xaxis().set_visible(False)\n",
    "        ax.get_yaxis().set_visible(False)\n",
    "plt.show()"
   ]
  },
  {
   "cell_type": "markdown",
   "id": "6a331561",
   "metadata": {},
   "source": [
    "# Residual neural networks\n",
    "\n",
    "Now lets check if we can improve even more the performance of the reconstruction by emplying residual neural networks.\n",
    "\n",
    "TODO"
   ]
  },
  {
   "cell_type": "code",
   "execution_count": null,
   "id": "9b6d6d5d",
   "metadata": {},
   "outputs": [],
   "source": []
  }
 ],
 "metadata": {
  "kernelspec": {
   "display_name": "Python 3 (ipykernel)",
   "language": "python",
   "name": "python3"
  },
  "language_info": {
   "codemirror_mode": {
    "name": "ipython",
    "version": 3
   },
   "file_extension": ".py",
   "mimetype": "text/x-python",
   "name": "python",
   "nbconvert_exporter": "python",
   "pygments_lexer": "ipython3",
   "version": "3.11.6"
  }
 },
 "nbformat": 4,
 "nbformat_minor": 5
}
