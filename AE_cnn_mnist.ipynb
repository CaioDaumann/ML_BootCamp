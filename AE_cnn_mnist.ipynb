{
 "cells": [
  {
   "cell_type": "markdown",
   "id": "34f8a21a",
   "metadata": {},
   "source": [
    "# Autoencoders\n",
    "\n",
    "In this notebook, we explore the task of constructing an autoencoder framework tailored for the reconstruction of MNIST images. Our exploration involves the implementation and comparison of both MLP and Convolutional Autoencoder architectures. Through this comparative analysis, we aim to discern the performance characteristics and potential trade-offs between these methodologies."
   ]
  },
  {
   "cell_type": "code",
   "execution_count": 1,
   "id": "6e846ff3",
   "metadata": {},
   "outputs": [],
   "source": [
    "# First lets load the nescessary libraries\n",
    "import torch\n",
    "import torch.nn as nn\n",
    "import torch.optim as optim\n",
    "from torchvision import datasets, transforms\n",
    "from torch.utils.data import DataLoader\n",
    "\n",
    "# For plotting\n",
    "import matplotlib.pyplot as plt\n",
    "import torch.nn.functional as F"
   ]
  },
  {
   "cell_type": "markdown",
   "id": "fce914fb",
   "metadata": {},
   "source": [
    "The second stage is to load the MNIST dataset. More details about it are available in the CNN notebook."
   ]
  },
  {
   "cell_type": "code",
   "execution_count": 2,
   "id": "63768ce5",
   "metadata": {},
   "outputs": [],
   "source": [
    "# MNIST dataset\n",
    "transform = transforms.Compose([transforms.ToTensor(), transforms.Normalize((0.5,), (0.5,))])\n",
    "\n",
    "train_dataset = datasets.MNIST(root='./data', train=True, transform=transform, download=True)\n",
    "test_dataset = datasets.MNIST(root='./data', train=False, transform=transform, download=True)\n",
    "\n",
    "train_loader = DataLoader(dataset=train_dataset, batch_size=32, shuffle=True)\n",
    "test_loader = DataLoader(dataset=test_dataset, batch_size=1000, shuffle=False)"
   ]
  },
  {
   "cell_type": "markdown",
   "id": "d954c180",
   "metadata": {},
   "source": [
    "### Multi layer perceptron\n",
    "\n",
    "In our first autoencoder, let's use an MLP and check its performance. We'll also take a look at the latent space representation, so we'll add 'forward' and 'get_encoded_representation' methods to our class."
   ]
  },
  {
   "cell_type": "code",
   "execution_count": 3,
   "id": "e36dbc89",
   "metadata": {},
   "outputs": [],
   "source": [
    "class Autoencoder(nn.Module):\n",
    "    def __init__(self):\n",
    "        super(Autoencoder, self).__init__()\n",
    "        # Encoder\n",
    "        self.encoder = nn.Sequential(\n",
    "            nn.Linear(28*28, 256),\n",
    "            nn.ReLU(),\n",
    "            nn.Linear(256, 128),\n",
    "            nn.ReLU(),\n",
    "            nn.Linear(128, 64),\n",
    "            nn.ReLU(),\n",
    "            nn.Linear(64, 32),\n",
    "            nn.ReLU(),\n",
    "            nn.Linear(32, 12)  # Encoded representation\n",
    "        )\n",
    "        # Decoder\n",
    "        self.decoder = nn.Sequential(\n",
    "            nn.Linear(12, 32),\n",
    "            nn.ReLU(),\n",
    "            nn.Linear(32, 64),\n",
    "            nn.ReLU(),\n",
    "            nn.Linear(64, 128),\n",
    "            nn.ReLU(),\n",
    "            nn.Linear(128, 256),\n",
    "            nn.ReLU(),\n",
    "            nn.Linear(256, 28*28),\n",
    "            nn.Tanh()\n",
    "        )\n",
    "        \n",
    "    def forward(self, x):\n",
    "        encoded = self.encoder(x)\n",
    "        decoded = self.decoder(encoded)\n",
    "        return decoded  # Return both decoded and encoded values\n",
    "\n",
    "    def get_encoded_representation(self, x):\n",
    "        # This function can be used to specifically obtain the encoded representation.\n",
    "        return self.encoder(x)"
   ]
  },
  {
   "cell_type": "markdown",
   "id": "2950ad72",
   "metadata": {},
   "source": [
    "Now lets define the loss and the optimizer"
   ]
  },
  {
   "cell_type": "code",
   "execution_count": 4,
   "id": "327b4f55",
   "metadata": {},
   "outputs": [
    {
     "name": "stdout",
     "output_type": "stream",
     "text": [
      "Epoch [1/3], Train Loss: 0.1094, Test Loss: 0.1260\n",
      "Epoch [2/3], Train Loss: 0.1053, Test Loss: 0.1023\n",
      "Epoch [3/3], Train Loss: 0.0914, Test Loss: 0.0908\n"
     ]
    }
   ],
   "source": [
    "# Device configuration\n",
    "device = torch.device('cuda' if torch.cuda.is_available() else 'cpu')\n",
    "\n",
    "model = Autoencoder().to(device)\n",
    "\n",
    "# other hyper parametersnum_epochs\n",
    "num_epochs = 3\n",
    "learning_rate = 1e-3\n",
    "\n",
    "# Loss and optimizer\n",
    "criterion = nn.MSELoss()\n",
    "optimizer = optim.Adam(model.parameters(), lr=learning_rate)\n",
    "\n",
    "# lets now begin the training loop\n",
    "# Training the model\n",
    "for epoch in range(num_epochs):\n",
    "    for data in train_loader:\n",
    "        img, _ = data\n",
    "        img = img.view(img.size(0), -1).to(device)\n",
    "        \n",
    "        # Forward pass\n",
    "        output = model(img)\n",
    "        loss = criterion(output, img)\n",
    "        \n",
    "        # Backward pass and optimize\n",
    "        optimizer.zero_grad()\n",
    "        loss.backward()\n",
    "        optimizer.step()\n",
    "    with torch.no_grad():\n",
    "        for data in test_loader:\n",
    "            img, _ = data\n",
    "            img = img.view(img.size(0), -1).to(device)\n",
    "            output = model(img)\n",
    "            test_loss = criterion(output, img).mean()\n",
    "\n",
    "            #lets do it for only one batch, as thousand events is enough\n",
    "            break\n",
    "        \n",
    "    print(f'Epoch [{epoch+1}/{num_epochs}], Train Loss: {loss:.4f}, Test Loss: {test_loss:.4f}')\n",
    "    #print(f'Epoch [{epoch+1}/{num_epochs}], Loss: {loss.item():.4f}')"
   ]
  },
  {
   "cell_type": "markdown",
   "id": "ef7a8735",
   "metadata": {},
   "source": [
    "Now that the training is finished, lets plot the results"
   ]
  },
  {
   "cell_type": "code",
   "execution_count": 5,
   "id": "e113a594",
   "metadata": {},
   "outputs": [
    {
     "data": {
      "image/png": "[encoded data removed]",
      "text/plain": [
       "<Figure size 2000x400 with 20 Axes>"
      ]
     },
     "metadata": {},
     "output_type": "display_data"
    }
   ],
   "source": [
    "dataiter = iter(test_loader)\n",
    "images, labels = next(dataiter)\n",
    "\n",
    "# Get sample outputs\n",
    "images = images.view(images.size(0), -1).to(device)\n",
    "output = model(images)\n",
    "images = images.cpu().view(-1, 1, 28, 28)\n",
    "output = output.cpu().view(-1, 1, 28, 28)\n",
    "\n",
    "# Plot the first 10 test images and their reconstructions\n",
    "fig, axes = plt.subplots(nrows=2, ncols=10, sharex=True, sharey=True, figsize=(20,4))\n",
    "for images, row in zip([images[:10], output[:10]], axes):\n",
    "    for img, ax in zip(images, row):\n",
    "        ax.imshow(img.reshape((28, 28)).detach().numpy(), cmap='gray')\n",
    "        ax.get_xaxis().set_visible(False)\n",
    "        ax.get_yaxis().set_visible(False)\n",
    "plt.show()"
   ]
  },
  {
   "cell_type": "markdown",
   "id": "23c1ca89",
   "metadata": {},
   "source": [
    "## Convolution neural networks\n",
    "\n",
    "Now, let's compare the results with a CNN.\n",
    "\n",
    "We've observed that convolution operations typically reduce the size of the original image, which suits building the encoder. However, how can we utilize convolution operations to go from the latent space size back to the original image size?\n",
    "\n",
    "We can use either `Upsampling` or `transposed convolutions`. In this notebook we will explore the `Upsampling` method."
   ]
  },
  {
   "cell_type": "code",
   "execution_count": 18,
   "id": "a3ba669d",
   "metadata": {},
   "outputs": [],
   "source": [
    "class CNNAutoencoder(nn.Module):\n",
    "    def __init__(self):\n",
    "        super(CNNAutoencoder, self).__init__()\n",
    "        # Encoder\n",
    "        self.encoder = nn.Sequential(\n",
    "            nn.Conv2d(1, 16, 3, padding=1),    # Reduce spatial dimensions\n",
    "            nn.ReLU(),\n",
    "            nn.MaxPool2d(2, 2),\n",
    "            nn.Conv2d(16, 4, 3, padding=1),    # Further reduce spatial dimensions\n",
    "            nn.ReLU(),\n",
    "            nn.MaxPool2d(2, 2)\n",
    "        )\n",
    "        # Decoder\n",
    "        self.decoder = nn.Sequential(\n",
    "            nn.Upsample(scale_factor=2, mode='nearest'),\n",
    "            nn.Conv2d(4, 16, 3, padding=1),    # Increase spatial dimensions\n",
    "            nn.ReLU(),\n",
    "            nn.Upsample(scale_factor=2, mode='nearest'),\n",
    "            nn.Conv2d(16, 16, 3, padding=1),\n",
    "            nn.Tanh(),\n",
    "            nn.Conv2d(16, 1, 3, padding=1),\n",
    "            nn.Tanh()\n",
    "        )\n",
    "\n",
    "    def forward(self, x):\n",
    "        x = self.encoder(x)\n",
    "        x = self.decoder(x)\n",
    "        return x\n"
   ]
  },
  {
   "cell_type": "code",
   "execution_count": 19,
   "id": "cc9601b8",
   "metadata": {},
   "outputs": [
    {
     "name": "stdout",
     "output_type": "stream",
     "text": [
      "Epoch [1/3], Train Loss: 0.0272, Test Loss: 0.0283\n",
      "Epoch [2/3], Train Loss: 0.0262, Test Loss: 0.0238\n",
      "Epoch [3/3], Train Loss: 0.0248, Test Loss: 0.0221\n"
     ]
    }
   ],
   "source": [
    "# Device configuration\n",
    "device = torch.device('cuda' if torch.cuda.is_available() else 'cpu')\n",
    "\n",
    "model = CNNAutoencoder().to(device)\n",
    "\n",
    "# other hyper parametersnum_epochs\n",
    "num_epochs = 3\n",
    "learning_rate = 1e-3\n",
    "\n",
    "# Loss and optimizer\n",
    "criterion = nn.MSELoss()\n",
    "optimizer = optim.Adam(model.parameters(), lr=learning_rate)\n",
    "\n",
    "# Train the model\n",
    "for epoch in range(num_epochs):\n",
    "    for data in train_loader:\n",
    "        img, _ = data\n",
    "        img = img.to(device)\n",
    "        \n",
    "        # Forward pass\n",
    "        output = model(img)\n",
    "        loss = criterion(output, img)\n",
    "        \n",
    "        # Backward pass and optimize\n",
    "        optimizer.zero_grad()\n",
    "        loss.backward()\n",
    "        optimizer.step()\n",
    "        \n",
    "    with torch.no_grad():\n",
    "        correct = 0\n",
    "        for data, target in test_loader:\n",
    "                data, target = data.to(device), target.to(device)\n",
    "                output = model(data)\n",
    "                #print(output[0])\n",
    "                test_loss = criterion(output, data).mean()\n",
    "\n",
    "\n",
    "                # lets do it for only one batch, as thousand events is enough\n",
    "                break\n",
    "    print(f'Epoch [{epoch+1}/{num_epochs}], Train Loss: {loss:.4f}, Test Loss: {test_loss:.4f}')\n",
    "    #print(f'Epoch {epoch}, Train Loss: {loss:.4f}', f' Test Loss: {test_loss:.4f}')"
   ]
  },
  {
   "cell_type": "code",
   "execution_count": null,
   "id": "ba2e39eb",
   "metadata": {},
   "outputs": [],
   "source": [
    "dataiter = iter(test_loader)\n",
    "images, labels = next(dataiter)\n",
    "\n",
    "# Get sample outputs\n",
    "images = images.to(device)\n",
    "output = model(images)\n",
    "images = images.cpu().view(-1, 1, 28, 28)\n",
    "output = output.cpu().view(-1, 1, 28, 28)\n",
    "\n",
    "# Plot the first 10 test images and their reconstructions\n",
    "fig, axes = plt.subplots(nrows=2, ncols=10, sharex=True, sharey=True, figsize=(20,4))\n",
    "for images, row in zip([images[:10], output[:10]], axes):\n",
    "    for img, ax in zip(images, row):\n",
    "        ax.imshow(img.reshape((28, 28)).detach().numpy(), cmap='gray')\n",
    "        ax.get_xaxis().set_visible(False)\n",
    "        ax.get_yaxis().set_visible(False)\n",
    "plt.show()"
   ]
  },
  {
   "cell_type": "markdown",
   "id": "671a31c3",
   "metadata": {},
   "source": []
  },
  {
   "cell_type": "code",
   "execution_count": null,
   "id": "ce0bb95a",
   "metadata": {},
   "outputs": [],
   "source": []
  },
  {
   "cell_type": "code",
   "execution_count": null,
   "id": "28a0d15f",
   "metadata": {},
   "outputs": [],
   "source": []
  }
 ],
 "metadata": {
  "kernelspec": {
   "display_name": "Python 3 (ipykernel)",
   "language": "python",
   "name": "python3"
  },
  "language_info": {
   "codemirror_mode": {
    "name": "ipython",
    "version": 3
   },
   "file_extension": ".py",
   "mimetype": "text/x-python",
   "name": "python",
   "nbconvert_exporter": "python",
   "pygments_lexer": "ipython3",
   "version": "3.11.6"
  }
 },
 "nbformat": 4,
 "nbformat_minor": 5
}
